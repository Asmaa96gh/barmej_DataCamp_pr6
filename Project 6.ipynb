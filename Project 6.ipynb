{
 "cells": [
  {
   "cell_type": "markdown",
   "metadata": {
    "colab_type": "text",
    "id": "QTgq-IqfEiPT"
   },
   "source": [
    "<div style=\"direction:rtl; text-align:right\">\n",
    "\n",
    "# المشروع السادس: هل تستطيع تصنيف النصوص؟"
   ]
  },
  {
   "cell_type": "markdown",
   "metadata": {
    "colab_type": "text",
    "id": "sTvpwwE4EiPV"
   },
   "source": [
    "<div style=\"direction:rtl; text-align:right\">\n",
    "أهلاً بكم في المشروع السادس من علم البيانات. في هذا المشروع، سنقوم معاً بالنظر إلى بيانات فريدة من نوعها وهي مجموعة من النصوص المصنفة إلى مجالات مختلفة. سنقوم بنمذجة هذه البيانات لتوقع تصنيف النصوص بناء على الكلمات الواردة. تستطيع قراءة المزيد عن البيانات من خلال موقع سايكت-ليرن:"
   ]
  },
  {
   "cell_type": "markdown",
   "metadata": {
    "colab_type": "text",
    "id": "WY8p1tTnEiPX"
   },
   "source": [
    "- https://scikit-learn.org/0.19/datasets/twenty_newsgroups.html"
   ]
  },
  {
   "cell_type": "markdown",
   "metadata": {
    "colab_type": "text",
    "id": "C_7boLBGEiPZ"
   },
   "source": [
    "<div style=\"direction:rtl; text-align:right\">\n",
    "ملاحظة: عليك تعديل الخانات التي يوجد فيها الكود أدناه قبل تسليم المشروع. جميع الخانات الأخرى يجب ان تبقى كما هي بدون أي \n",
    "تعديل.\n",
    "\n",
    "```\n",
    "############################\n",
    "# عليك تعديل هذه الخانة قبل تسليم المشروع\n",
    "# YOU HAVE TO EDIT THIS CELLL\n",
    "############################\n",
    "```"
   ]
  },
  {
   "cell_type": "code",
   "execution_count": 1,
   "metadata": {
    "colab": {},
    "colab_type": "code",
    "id": "mNvvXHoREiPa"
   },
   "outputs": [],
   "source": [
    "import numpy as np\n",
    "import pandas as pd\n",
    "import matplotlib.pyplot as plt\n",
    "import seaborn as sns\n",
    "%matplotlib inline"
   ]
  },
  {
   "cell_type": "markdown",
   "metadata": {
    "colab_type": "text",
    "id": "3P12Z3i2EiPg"
   },
   "source": [
    "<div style=\"direction:rtl; text-align:right\">\n",
    "\n",
    "# قراءة البيانات"
   ]
  },
  {
   "cell_type": "code",
   "execution_count": 2,
   "metadata": {
    "colab": {},
    "colab_type": "code",
    "id": "cWa8IRjhEiPh"
   },
   "outputs": [],
   "source": [
    "from sklearn.datasets import fetch_20newsgroups"
   ]
  },
  {
   "cell_type": "code",
   "execution_count": 3,
   "metadata": {
    "colab": {},
    "colab_type": "code",
    "id": "6rrlx1UKEiPp"
   },
   "outputs": [],
   "source": [
    "newsgroups_data = fetch_20newsgroups(subset='train')"
   ]
  },
  {
   "cell_type": "code",
   "execution_count": 4,
   "metadata": {
    "colab": {},
    "colab_type": "code",
    "id": "19RcBVzmEiPz"
   },
   "outputs": [],
   "source": [
    "X = newsgroups_data['data']\n",
    "y = newsgroups_data['target']"
   ]
  },
  {
   "cell_type": "markdown",
   "metadata": {
    "colab_type": "text",
    "id": "zpWlQk-EEiP3"
   },
   "source": [
    "<div style=\"direction:rtl; text-align:right\">\n",
    "لاحظ أن X هنا عبارة عن قائمة بالنصوص، وليست جدول كما هو الحال مع الدروس الأخرى. أما y فهي كذلك قائمة بالتصنيفات المختلفة. لمعرفة معنى التصنيفات نستطيع طباعة target_names:"
   ]
  },
  {
   "cell_type": "code",
   "execution_count": 5,
   "metadata": {
    "colab": {},
    "colab_type": "code",
    "id": "j_mOkAH1EiP4",
    "outputId": "545f7d80-deca-458f-ed03-129b022c2aeb"
   },
   "outputs": [
    {
     "name": "stdout",
     "output_type": "stream",
     "text": [
      "0 \t->\t alt.atheism\n",
      "1 \t->\t comp.graphics\n",
      "2 \t->\t comp.os.ms-windows.misc\n",
      "3 \t->\t comp.sys.ibm.pc.hardware\n",
      "4 \t->\t comp.sys.mac.hardware\n",
      "5 \t->\t comp.windows.x\n",
      "6 \t->\t misc.forsale\n",
      "7 \t->\t rec.autos\n",
      "8 \t->\t rec.motorcycles\n",
      "9 \t->\t rec.sport.baseball\n",
      "10 \t->\t rec.sport.hockey\n",
      "11 \t->\t sci.crypt\n",
      "12 \t->\t sci.electronics\n",
      "13 \t->\t sci.med\n",
      "14 \t->\t sci.space\n",
      "15 \t->\t soc.religion.christian\n",
      "16 \t->\t talk.politics.guns\n",
      "17 \t->\t talk.politics.mideast\n",
      "18 \t->\t talk.politics.misc\n",
      "19 \t->\t talk.religion.misc\n"
     ]
    }
   ],
   "source": [
    "for i, k in enumerate(newsgroups_data['target_names']):\n",
    "    print(i, '\\t->\\t', k)"
   ]
  },
  {
   "cell_type": "markdown",
   "metadata": {
    "colab_type": "text",
    "id": "N817xW7eEiQC"
   },
   "source": [
    "<div style=\"direction:rtl; text-align:right\">\n",
    "وهنا سنقوم بطباعة أول قيمة من X"
   ]
  },
  {
   "cell_type": "code",
   "execution_count": 6,
   "metadata": {
    "colab": {},
    "colab_type": "code",
    "id": "vSOX9pG6EiQE",
    "outputId": "a19efd5b-7857-4d23-ea28-6b7c634b823b"
   },
   "outputs": [
    {
     "name": "stdout",
     "output_type": "stream",
     "text": [
      "From: lerxst@wam.umd.edu (where's my thing)\n",
      "Subject: WHAT car is this!?\n",
      "Nntp-Posting-Host: rac3.wam.umd.edu\n",
      "Organization: University of Maryland, College Park\n",
      "Lines: 15\n",
      "\n",
      " I was wondering if anyone out there could enlighten me on this car I saw\n",
      "the other day. It was a 2-door sports car, looked to be from the late 60s/\n",
      "early 70s. It was called a Bricklin. The doors were really small. In addition,\n",
      "the front bumper was separate from the rest of the body. This is \n",
      "all I know. If anyone can tellme a model name, engine specs, years\n",
      "of production, where this car is made, history, or whatever info you\n",
      "have on this funky looking car, please e-mail.\n",
      "\n",
      "Thanks,\n",
      "- IL\n",
      "   ---- brought to you by your neighborhood Lerxst ----\n",
      "\n",
      "\n",
      "\n",
      "\n",
      "\n"
     ]
    }
   ],
   "source": [
    "print(X[0])"
   ]
  },
  {
   "cell_type": "code",
   "execution_count": 7,
   "metadata": {},
   "outputs": [
    {
     "data": {
      "text/plain": [
       "sklearn.utils.Bunch"
      ]
     },
     "execution_count": 7,
     "metadata": {},
     "output_type": "execute_result"
    }
   ],
   "source": [
    "type(newsgroups_data)"
   ]
  },
  {
   "cell_type": "markdown",
   "metadata": {
    "colab_type": "text",
    "id": "ZYsWJy4hEiQI"
   },
   "source": [
    "<div style=\"direction:rtl; text-align:right\">\n",
    "لنقم أولاً بعرض كم عدد النصوص لكل صنف ؟ قد تحتاج لاستخدام باندا للقيام بالمهمة!"
   ]
  },
  {
   "cell_type": "code",
   "execution_count": 8,
   "metadata": {
    "colab": {},
    "colab_type": "code",
    "id": "rgM7kHnkEiQK",
    "outputId": "fd2d4922-62ea-40c3-c2b7-2834b8c449f3"
   },
   "outputs": [
    {
     "data": {
      "text/plain": [
       "10    600\n",
       "15    599\n",
       "8     598\n",
       "9     597\n",
       "11    595\n",
       "13    594\n",
       "7     594\n",
       "14    593\n",
       "5     593\n",
       "12    591\n",
       "2     591\n",
       "3     590\n",
       "6     585\n",
       "1     584\n",
       "4     578\n",
       "17    564\n",
       "16    546\n",
       "0     480\n",
       "18    465\n",
       "19    377\n",
       "Name: category, dtype: int64"
      ]
     },
     "execution_count": 8,
     "metadata": {},
     "output_type": "execute_result"
    }
   ],
   "source": [
    "############################\n",
    "# عليك تعديل هذه الخانة قبل تسليم المشروع\n",
    "# YOU HAVE TO EDIT THIS CELLL\n",
    "############################\n",
    "#newsgroups_data.data,newsgroups_data.target\n",
    "data1 = pd.DataFrame(columns=['text','category'])\n",
    "data1['text']=newsgroups_data.data\n",
    "data1['category']=newsgroups_data.target\n",
    "data1.head()\n",
    "data1['category'].value_counts()\n",
    "# YOUR CODE HERE"
   ]
  },
  {
   "cell_type": "markdown",
   "metadata": {
    "colab_type": "text",
    "id": "v0pMf1VLEiQO"
   },
   "source": [
    "<div style=\"direction:rtl; text-align:right\">\n",
    "نرى أن لدينا توازن في توزيع النصوص بين الأصناف المختلفة"
   ]
  },
  {
   "cell_type": "markdown",
   "metadata": {
    "colab_type": "text",
    "id": "KRx-wLPnEiQQ"
   },
   "source": [
    "<div style=\"direction:rtl; text-align:right\">\n",
    "\n",
    "# تجهيز البيانات"
   ]
  },
  {
   "cell_type": "markdown",
   "metadata": {
    "colab_type": "text",
    "id": "WjUYplPnEiQR"
   },
   "source": [
    "<div style=\"direction:rtl; text-align:right\">\n",
    "ماذا نعمل عادة مع البيانات النصية؟ في هذه الحالة، سيكون أمامنا الكثير لنعمله حتى نقوم بتنظيف هذه البيانات وتهيئتها للتحليل. لذلك سنقوم بكتابة بعض الأوامر التي تساعدنا على ذلك."
   ]
  },
  {
   "cell_type": "markdown",
   "metadata": {
    "colab_type": "text",
    "id": "Sbl2dd7KEiQT"
   },
   "source": [
    "<div style=\"direction:rtl; text-align:right\">\n",
    "المهمة الأولى: تنظيف النص"
   ]
  },
  {
   "cell_type": "code",
   "execution_count": 9,
   "metadata": {
    "colab": {},
    "colab_type": "code",
    "id": "4JHzDJ6sEiQU"
   },
   "outputs": [],
   "source": [
    "import re"
   ]
  },
  {
   "cell_type": "code",
   "execution_count": 10,
   "metadata": {
    "colab": {},
    "colab_type": "code",
    "id": "iOfAkPvAEiQY"
   },
   "outputs": [],
   "source": [
    "############################\n",
    "# عليك تعديل هذه الخانة قبل تسليم المشروع\n",
    "# YOU HAVE TO EDIT THIS CELLL\n",
    "############################\n",
    "\n",
    "\n",
    "# HINT: figure out how to: delete special charachters, delete numbers, delete email addresses\n",
    "#          if you dont know, use google!\n",
    "\n",
    "def clean_text(text):\n",
    "    emailremoved=re.sub(r'\\S+@\\S+', '', text) #first delete the email address \n",
    "    cleanlist= [re.sub(r\"[^a-zA-Z]+\", ' ', k) for k in emailremoved.split(\"\\n\")] #delete the special charachters and numbers\n",
    "    text=' '.join(cleanlist)\n",
    "    result = re.sub(r\"\\s+\",\" \", text) # remove the multiple spaces if there is any\n",
    "    return text"
   ]
  },
  {
   "cell_type": "code",
   "execution_count": 11,
   "metadata": {},
   "outputs": [
    {
     "data": {
      "text/plain": [
       "'From: irwin@cmptrc.lonestar.org (Irwin Arnstein)\\nSubject: Re: Recommendation on Duc\\nSummary: What\\'s it worth?\\nDistribution: usa\\nExpires: Sat, 1 May 1993 05:00:00 GMT\\nOrganization: CompuTrac Inc., Richardson TX\\nKeywords: Ducati, GTS, How much? \\nLines: 13\\n\\nI have a line on a Ducati 900GTS 1978 model with 17k on the clock.  Runs\\nvery well, paint is the bronze/brown/orange faded out, leaks a bit of oil\\nand pops out of 1st with hard accel.  The shop will fix trans and oil \\nleak.  They sold the bike to the 1 and only owner.  They want $3495, and\\nI am thinking more like $3K.  Any opinions out there?  Please email me.\\nThanks.  It would be a nice stable mate to the Beemer.  Then I\\'ll get\\na jap bike and call myself Axis Motors!\\n\\n-- \\n-----------------------------------------------------------------------\\n\"Tuba\" (Irwin)      \"I honk therefore I am\"     CompuTrac-Richardson,Tx\\nirwin@cmptrc.lonestar.org    DoD #0826          (R75/6)\\n-----------------------------------------------------------------------\\n'"
      ]
     },
     "execution_count": 11,
     "metadata": {},
     "output_type": "execute_result"
    }
   ],
   "source": [
    "X[10]"
   ]
  },
  {
   "cell_type": "markdown",
   "metadata": {
    "colab_type": "text",
    "id": "GgfsB55cEiQd"
   },
   "source": [
    "<div style=\"direction:rtl; text-align:right\">\n",
    "حسنا، سنقوم الآن برؤية أثر هذه التعديلات على العنصر الأول في قائمة النصوص"
   ]
  },
  {
   "cell_type": "code",
   "execution_count": 14,
   "metadata": {
    "colab": {},
    "colab_type": "code",
    "id": "pKR3QwGwEiQl",
    "outputId": "0aeec46e-bd71-4edf-d2e7-333c5eaa9641"
   },
   "outputs": [
    {
     "name": "stdout",
     "output_type": "stream",
     "text": [
      "From Irwin Arnstein  Subject Re Recommendation on Duc Summary What s it worth  Distribution usa Expires Sat May GMT Organization CompuTrac Inc Richardson TX Keywords Ducati GTS How much  Lines   I have a line on a Ducati GTS model with k on the clock Runs very well paint is the bronze brown orange faded out leaks a bit of oil and pops out of st with hard accel The shop will fix trans and oil  leak They sold the bike to the and only owner They want and I am thinking more like K Any opinions out there Please email me  Thanks It would be a nice stable mate to the Beemer Then I ll get a jap bike and call myself Axis Motors        Tuba Irwin I honk therefore I am CompuTrac Richardson Tx  DoD R    \n"
     ]
    }
   ],
   "source": [
    "print(clean_text(X[10]))"
   ]
  },
  {
   "cell_type": "code",
   "execution_count": 15,
   "metadata": {},
   "outputs": [
    {
     "data": {
      "text/plain": [
       "'From: jgreen@amber (Joe Green)\\nSubject: Re: Weitek P9000 ?\\nOrganization: Harris Computer Systems Division\\nLines: 14\\nDistribution: world\\nNNTP-Posting-Host: amber.ssd.csd.harris.com\\nX-Newsreader: TIN [version 1.1 PL9]\\n\\nRobert J.C. Kyanko (rob@rjck.UUCP) wrote:\\n> abraxis@iastate.edu writes in article <abraxis.734340159@class1.iastate.edu>:\\n> > Anyone know about the Weitek P9000 graphics chip?\\n> As far as the low-level stuff goes, it looks pretty nice.  It\\'s got this\\n> quadrilateral fill command that requires just the four points.\\n\\nDo you have Weitek\\'s address/phone number?  I\\'d like to get some information\\nabout this chip.\\n\\n--\\nJoe Green\\t\\t\\t\\tHarris Corporation\\njgreen@csd.harris.com\\t\\t\\tComputer Systems Division\\n\"The only thing that really scares me is a person with no sense of humor.\"\\n\\t\\t\\t\\t\\t\\t-- Jonathan Winters\\n'"
      ]
     },
     "execution_count": 15,
     "metadata": {},
     "output_type": "execute_result"
    }
   ],
   "source": [
    "X[3]"
   ]
  },
  {
   "cell_type": "markdown",
   "metadata": {
    "colab_type": "text",
    "id": "NYPs83ZrEiQq"
   },
   "source": [
    "<div style=\"direction:rtl; text-align:right\">\n",
    "سنقوم الآن بتنفيذ ذات الأمر على باقي النصوص في X:"
   ]
  },
  {
   "cell_type": "code",
   "execution_count": 16,
   "metadata": {
    "colab": {},
    "colab_type": "code",
    "id": "hfatLZwnEiQs"
   },
   "outputs": [],
   "source": [
    "############################\n",
    "# عليك تعديل هذه الخانة قبل تسليم المشروع\n",
    "# YOU HAVE TO EDIT THIS CELLL\n",
    "############################\n",
    "for i, text in enumerate(X):\n",
    "    X[i]=clean_text(X[i])\n",
    "# YOUR CODE HERE"
   ]
  },
  {
   "cell_type": "code",
   "execution_count": 17,
   "metadata": {},
   "outputs": [
    {
     "data": {
      "text/plain": [
       "'From Joe Green  Subject Re Weitek P  Organization Harris Computer Systems Division Lines  Distribution world NNTP Posting Host amber ssd csd harris com X Newsreader TIN version PL   Robert J C Kyanko wrote   writes in article   Anyone know about the Weitek P graphics chip   As far as the low level stuff goes it looks pretty nice It s got this  quadrilateral fill command that requires just the four points   Do you have Weitek s address phone number I d like to get some information about this chip     Joe Green Harris Corporation  Computer Systems Division  The only thing that really scares me is a person with no sense of humor   Jonathan Winters '"
      ]
     },
     "execution_count": 17,
     "metadata": {},
     "output_type": "execute_result"
    }
   ],
   "source": [
    "X[3]"
   ]
  },
  {
   "cell_type": "markdown",
   "metadata": {
    "colab_type": "text",
    "id": "O2BD_ZfeEiQx"
   },
   "source": [
    "<div style=\"direction:rtl; text-align:right\">\n",
    "الآن سنقوم باستخدام Td-IDF لتحويل الكلمات إلى مصفوفة ضخمة حتى نستخدمها في النمذجة. في الخانة التالية، ستقوم باستخدام TfidfVectorizer لتحويل النص."
   ]
  },
  {
   "cell_type": "code",
   "execution_count": 18,
   "metadata": {
    "colab": {},
    "colab_type": "code",
    "id": "P_XiPxo0EiQz"
   },
   "outputs": [
    {
     "name": "stderr",
     "output_type": "stream",
     "text": [
      "[nltk_data] Downloading package stopwords to\n",
      "[nltk_data]     C:\\Users\\asmaa\\AppData\\Roaming\\nltk_data...\n",
      "[nltk_data]   Package stopwords is already up-to-date!\n"
     ]
    }
   ],
   "source": [
    "############################\n",
    "# عليك تعديل هذه الخانة قبل تسليم المشروع\n",
    "# YOU HAVE TO EDIT THIS CELLL\n",
    "############################\n",
    "from sklearn.feature_extraction.text import TfidfVectorizer\n",
    "import nltk\n",
    "nltk.download('stopwords')\n",
    "from nltk.corpus import stopwords\n",
    "\n",
    "vec = TfidfVectorizer(analyzer='word', stop_words=stopwords.words('english'),\n",
    "                             ngram_range=(1, 2), max_df=.95, min_df=.01,max_features=10000)\n",
    "\n",
    "trn_term_doc = vec.fit_transform(X)"
   ]
  },
  {
   "cell_type": "code",
   "execution_count": 19,
   "metadata": {
    "colab": {},
    "colab_type": "code",
    "id": "_4U28AnZEiQ3",
    "outputId": "873154cc-4b3a-469e-b6b2-43878c3af3e6"
   },
   "outputs": [
    {
     "data": {
      "text/plain": [
       "<11314x1994 sparse matrix of type '<class 'numpy.float64'>'\n",
       "\twith 721346 stored elements in Compressed Sparse Row format>"
      ]
     },
     "execution_count": 19,
     "metadata": {},
     "output_type": "execute_result"
    }
   ],
   "source": [
    "trn_term_doc"
   ]
  },
  {
   "cell_type": "code",
   "execution_count": 20,
   "metadata": {},
   "outputs": [
    {
     "data": {
      "text/plain": [
       "(11314, 1994)"
      ]
     },
     "execution_count": 20,
     "metadata": {},
     "output_type": "execute_result"
    }
   ],
   "source": [
    "trn_term_doc.shape"
   ]
  },
  {
   "cell_type": "code",
   "execution_count": 21,
   "metadata": {},
   "outputs": [
    {
     "data": {
      "text/plain": [
       "'ability | able | absolute | absolutely | ac | academic | accept | acceptable | accepted | access | access unix | according | account | accurate | across | act | action | actions | active | activities | activity | acts | actual | actually | ad | adams | add | added | addition | additional | address | administration | admit | advance | advanced | advantage | advice | afraid | age | agencies | agency | ago | agree | ahead | air | al | alan | algorithm | alive | allen | allow | allowed | allows | almost | alone | along | already | also | alt | alternative | although | always | amendment | america | american | americans | among | amount | analysis | andrew | andy | angeles | announcement | anonymous | another | answer | answers | anti | anybody | anymore | anyone | anyone else | anyone know | anything | anyway | anywhere | apart | apparently | appear | appears | apple | application | applications | applied | apply | appreciate | appreciated | approach | appropriate | apr | apr gmt | apr organization | april | arab | archive | area | areas | argue | argument | arguments | armed | armenia | armenian | arms | army | around | art | article | article david | article john | article writes | articles | aside | ask | asked | asking | associated | association | assume | assuming | atheist | atheists | attack | attacks | attempt | attention | attitude | au | austin | australia | author | authority | auto | automatic | available | average | avoid | aware | away | back | background | bad | ball | banks | base | baseball | based | basic | basically | basis | batf | bbs | bear | beat | became | become | becomes | began | begin | beginning | behavior | behind | belief | beliefs | believe | believed | bell | benefit | berkeley | besides | best | bet | better | beyond | bible | biblical | big | bigger | bike | bill | billion | bit | bits | black | blame | block | blood | blue | bmw | board | bob | body | book | books | born | boston | bother | bottom | bought | boulder | box | boy | brad | brain | brand | break | brian | bring | british | broken | brother | brought | brown | btw | budget | build | building | built | bunch | bus | bush | business | button | buy | buying | ca | ca lines | ca organization | cable | california | call | called | calling | calls | caltech | cambridge | came | canada | canada lines | cannot | capable | capital | car | card | cards | care | careful | carnegie | carnegie mellon | carried | carry | carrying | cars | case | case western | cases | caught | cause | caused | causes | cc | cd | center | central | centre | century | certain | certainly | chance | change | changed | changes | changing | character | charge | charles | cheap | cheaper | check | checked | cheers | chicago | child | children | chip | chips | choice | choose | chris | christ | christian | christianity | christians | church | circuit | citizens | city | civil | claim | claimed | claims | class | clear | clearly | cleveland | clinton | clipper | clipper chip | clock | close | closed | closer | club | cmu | cmu edu | co | code | cold | college | color | colorado | colors | columbia | com | com article | com organization | come | comes | coming | command | comment | comments | commercial | committed | common | communication | communications | community | comp | companies | company | compare | compared | comparison | compatible | complete | completely | complex | computer | computer science | computers | computing | concept | concerned | concerning | conclusion | condition | conditions | conference | congress | connect | connected | connection | consider | considered | considering | constitution | contact | contains | content | context | continue | contrary | control | controller | convert | cool | copies | copy | corp | corporation | correct | correctly | cost | costs | could | count | countries | country | couple | course | court | cover | coverage | covered | cpu | craig | create | created | creation | crime | criminal | criminals | cross | crypto | cs | cup | curious | current | currently | cut | cwru | cwru edu | daily | dale | damage | damn | dan | dangerous | daniel | data | date | dave | david | day | days | dc | de | dead | deal | dealer | death | decent | decide | decided | decision | deep | defense | define | defined | definitely | definition | deleted | department | depending | depends | dept | des | described | description | design | designed | despite | details | determine | detroit | develop | developed | development | device | devices | die | died | diego | difference | differences | different | difficult | digital | direct | direction | directly | directory | disagree | disclaimer | discovered | discuss | discussed | discussion | disease | disk | disks | display | distribution | distribution na | distribution usa | distribution world | division | doctor | document | documentation | dod | dollars | domain | done | door | dos | double | doubt | doug | douglas | dr | draw | drive | driven | driver | drivers | drives | driving | drop | drug | drugs | due | dx | earlier | early | earth | easier | easily | east | easy | eat | economic | ed | edge | edu | edu article | edu lines | edu organization | edu reply | education | edward | effect | effective | effects | effort | either | electrical | electronic | electronics | else | email | employer | encryption | end | enforcement | eng | engine | engineer | engineering | england | english | enjoy | enough | entire | entirely | environment | equal | equipment | equivalent | eric | error | errors | escape | escrow | especially | essentially | established | et | etc | eternal | europe | european | even | even though | event | events | eventually | ever | every | everybody | everyone | everything | evidence | evil | ex | exact | exactly | example | examples | excellent | except | excuse | exist | existence | existing | exists | expansion | expect | expected | expensive | experience | expires | explain | express | expressed | external | extra | extremely | eye | eyes | face | fact | factor | facts | fail | failed | fair | fairly | faith | fall | false | familiar | family | fan | fans | faq | far | fast | faster | father | fault | fax | fbi | fear | features | federal | feel | feeling | feet | felt | field | fight | fighting | figure | file | files | final | finally | find | finding | fine | fire | firearms | first | first time | fit | five | fix | fixed | flame | flames | flight | floppy | florida | folks | follow | followed | following | follows | food | force | forces | foreign | forget | form | format | former | forward | found | foundation | four | francisco | frank | fred | free | freedom | frequently | friend | friends | front | ftp | full | fully | fun | function | functions | funny | future | gain | game | games | gary | gas | gateway | gave | general | generally | generation | george | georgia | german | germany | get | gets | getting | give | given | gives | giving | glad | gmt | go | goal | goals | god | goes | going | gone | good | gordon | got | gotten | gov | government | governments | grant | graphics | great | greater | greatly | greatly appreciated | greek | green | greg | ground | group | groups | guess | guest | guest lines | guide | gun | guns | guy | guys | half | hall | hand | handle | handling | hands | happen | happened | happening | happens | happy | hard | hard drive | hardly | hardware | hate | hd | head | health | hear | heard | heart | heaven | heavy | held | hell | hello | help | helpful | helps | hence | hewlett | hewlett packard | hey | hi | high | higher | highly | hill | historical | history | hit | hockey | hold | holy | home | honest | hope | hopefully | host | hot | hour | hours | house | however | hp | huge | human | humans | hundred | hurt | ibm | ice | id | ide | idea | ideas | ie | ignore | ii | iii | il | illegal | illinois | illinois urbana | image | images | imagine | imho | immediately | important | impossible | inc | inc lines | include | included | includes | including | increase | indeed | independent | indiana | individual | individuals | industry | info | information | innocent | input | ins | ins cwru | inside | install | installed | instance | instead | institute | institute technology | insurance | intelligence | intended | interest | interested | interesting | interface | internal | international | internet | interpretation | involved | islam | israel | israeli | issue | issues | items | jack | james | jason | jeff | jesus | jewish | jews | jim | job | joe | john | johnson | join | jon | jose | joseph | jr | judge | justice | keep | keeping | keith | ken | kent | kept | kevin | key | keyboard | keys | keywords | kids | kill | killed | killing | kind | king | knew | know | knowing | knowledge | known | knows | koresh | la | lab | laboratory | lack | land | language | large | larger | larry | last | last night | last year | late | later | latest | latter | launch | law | lawrence | laws | lead | leaders | leading | leads | league | learn | learned | least | leave | leaving | led | lee | left | legal | legitimate | less | let | let know | letter | level | levels | library | lies | life | light | like | like know | likely | limit | limited | line | lines anyone | lines article | lines distribution | lines hi | lines nntp | lines organization | lines reply | lines writes | link | list | listen | lists | little | live | lived | lives | living | load | local | location | logic | logical | long | long time | longer | look | look like | looked | looking | looks | looks like | lord | los | los angeles | lose | loss | lost | lot | lots | louis | love | low | lower | ltd | luck | mac | machine | machines | macintosh | made | magazine | mail | mailing | main | maintain | major | majority | make | make sure | makes | making | man | management | manager | manner | manual | many | many people | marc | march | mark | market | martin | mass | material | math | matter | matthew | max | may | maybe | mb | md | mean | meaning | means | meant | measure | media | medical | medicine | meet | meg | mellon | member | members | memory | men | mention | mentioned | merely | message | message apr | messages | method | methods | mhz | mi | michael | michigan | microsoft | middle | might | mike | miles | military | million | millions | mind | mine | minor | minute | minutes | misc | missed | missing | mistake | mit | mit edu | mode | model | models | modem | modern | moment | mon | money | monitor | month | months | montreal | moon | moral | morality | morning | mostly | mother | motherboard | motif | motorcycle | motorola | mountain | mouse | move | moved | moving | mr | ms | much | much better | multi | multiple | murder | music | muslim | must | na | na lines | na organization | name | names | nasa | nasa gov | nation | national | natural | nature | nd | near | nearly | necessarily | necessary | need | needed | needs | neither | net | netcom | network | never | new | new york | news | news software | newsgroup | newsgroups | newsreader | newsreader tin | next | nhl | nice | night | nj | nntp | nntp posting | nobody | noise | non | none | normal | normally | north | northern | note | noted | notes | nothing | notice | noticed | nsa | nt | number | numbers | ny | object | objective | obtain | obvious | obviously | occur | offer | offers | office | official | often | oh | ohio | oil | ok | okay | old | older | one | one thing | ones | online | online communications | ontario | onto | open | operating | operation | operations | opinion | opinions | opinions expressed | opposed | option | options | orbit | order | organization california | organization case | organization computer | organization netcom | organization univ | organization university | organizations | original | originally | originator | os | others | otherwise | output | outside | owner | owners | pa | package | packard | page | pages | paid | pain | paper | park | part | particular | particularly | parts | party | pasadena | pass | passed | past | pat | path | patrick | paul | pay | paying | pc | peace | people | per | perfect | perfectly | performance | perhaps | period | person | personal | personally | peter | pgp | phil | phone | physical | physics | pick | picture | piece | pin | pittsburgh | pittsburgh pa | pl | pl lines | place | placed | places | plain | plan | play | played | player | players | playing | playoffs | please | please mail | please send | plug | plus | pm | po | point | pointed | points | police | policy | political | politics | poor | popular | population | port | position | positive | possibility | possible | possibly | post | posted | poster | posting | posting host | postings | posts | potential | power | powerful | practice | pre | prefer | present | presented | president | press | pressure | pretty | prevent | previous | previous article | previously | price | prices | print | printer | privacy | private | pro | probably | problem | problems | process | produce | produced | product | products | program | programming | programs | project | proof | proper | properly | property | proposal | proposed | protect | protection | prove | provide | provided | provides | providing | ps | pub | public | public access | published | pull | purchase | purpose | purposes | put | putting | quality | question | questions | quick | quickly | quite | quote | quoted | race | radio | raised | ram | ran | random | range | rate | rates | rather | ray | rd | reach | read | readers | reading | ready | real | reality | realize | really | reason | reasonable | reasons | rec | recall | receive | received | recent | recently | recognize | recommend | record | red | reduce | refer | reference | references | regard | regarding | regardless | regards | regular | related | relatively | release | released | relevant | religion | religious | remain | remember | remote | remove | removed | replace | replaced | replies | reply | reply message | reply nntp | reply organization | report | reported | reports | request | require | required | requires | research | reserve | reserve university | resolution | resources | respect | respond | response | responses | responsibility | responsible | rest | result | results | return | review | rich | richard | ride | riding | right | rights | risk | road | roads | rob | robert | rochester | rocket | roger | role | rom | ron | room | round | rs | rule | rules | run | running | runs | russian | ryan | safe | safety | said | sale | sale organization | sample | san | san diego | save | saw | say | saying | says | scale | scheme | school | sci | science | science lines | sciences | scientific | scott | screen | scsi | se | sea | search | season | seattle | second | secret | section | secure | security | see | seeing | seem | seemed | seems | seen | self | sell | selling | send | sending | sense | sent | separate | serial | series | serious | seriously | serve | server | service | services | set | setting | setup | several | sex | sexual | shall | share | shipping | short | shot | show | showed | showing | shown | shows | sick | side | sign | signal | significant | similar | simple | simply | sin | since | single | site | sites | situation | six | size | slightly | slow | small | smaller | smith | social | society | software | software vax | sold | soldiers | solid | solution | somebody | somehow | someone | someone else | something | something like | sometimes | somewhat | somewhere | son | soon | sorry | sort | soul | sound | sounds | sounds like | source | sources | south | southern | soviet | sp | space | speak | speaking | special | specific | specifically | speed | spend | spent | sport | spot | st | stand | standard | standards | stanford | stanley | star | start | started | starting | starts | state | state university | stated | statement | statements | states | station | statistics | stats | status | stay | step | stephen | steve | steven | stick | still | stop | stopped | store | story | straight | strange | street | strong | structure | student | studies | study | stuff | stupid | style | subject help | subject need | subject new | success | sufficient | suggest | suggested | suggestions | summary | summer | sun | sunday | super | supply | support | supported | supports | suppose | supposed | sure | surely | surface | surprised | surrender | suspect | switch | system | systems | table | take | taken | takes | taking | talk | talking | tape | tax | team | teams | tech | technical | technology | technology lines | ted | tel | telephone | tell | telling | tells | ten | tend | term | terms | test | texas | text | th | thank | thanks | thanks advance | theory | therefore | thing | things | think | think would | thinking | thinks | third | thomas | though | thought | thoughts | thousands | thread | three | throw | thus | tim | time | times | tin | tin version | title | tm | today | together | told | tom | tony | took | tools | top | topic | toronto | total | totally | toward | towards | town | track | trade | tradition | traffic | training | transfer | treatment | trial | tried | trouble | true | truly | trust | truth | try | trying | turkish | turks | turn | turned | turns | tv | twice | two | tx | type | types | typical | uk | un | unable | understand | understanding | unfortunately | unit | united | united states | univ | universe | university | university california | university cleveland | university illinois | university lines | unix | unless | update | upgrade | upon | urbana | urbana lines | us | usa | usa lines | usa nntp | usa organization | use | used | useful | usenet | user | users | uses | using | usual | usually | utexas | utexas edu | uucp | uunet | va | valid | value | values | van | vancouver | various | vax | vax vms | vehicle | version | version pl | versions | vga | via | video | view | views | virginia | vms | vms vnews | vnews | voice | volume | vote | vs | wa | waco | wait | waiting | wall | want | wanted | wants | war | warning | washington | waste | watch | watching | water | way | wayne | ways | weapons | week | weeks | weight | welcome | well | went | west | western | western reserve | whatever | whether | white | white house | whole | whose | wide | wife | william | willing | win | window | windows | wings | winning | wish | within | without | woman | women | wonder | wondering | word | words | work | worked | working | works | world | world nntp | world organization | world reply | worry | worse | worst | worth | would | would like | would make | write | writes | writes anyone | writes article | writing | written | wrong | wrote | yeah | year | year old | years | years ago | yes | yesterday | yet | york | young | zero'"
      ]
     },
     "execution_count": 21,
     "metadata": {},
     "output_type": "execute_result"
    }
   ],
   "source": [
    "' | '.join(vec.get_feature_names())"
   ]
  },
  {
   "cell_type": "markdown",
   "metadata": {
    "colab_type": "text",
    "id": "b6ECk7dREiQ8"
   },
   "source": [
    "<div style=\"direction:rtl; text-align:right\">\n",
    "\n",
    "# نمذجة البيانات"
   ]
  },
  {
   "cell_type": "markdown",
   "metadata": {
    "colab_type": "text",
    "id": "FANs1n7xEiQ9"
   },
   "source": [
    "<div style=\"direction:rtl; text-align:right\">\n",
    "سنقوم الآن بنمذجة البيانات. لنبدأ بالانحدار اللوجستي. في الخانة أدناه، قم باستيراد كلاً من مكتبة الانحدار اللوجستي، وأمر cross_val_score ثم استخدمهم في تدريب النموذج والتحقق من صحته."
   ]
  },
  {
   "cell_type": "code",
   "execution_count": 22,
   "metadata": {
    "colab": {},
    "colab_type": "code",
    "id": "uc6MkCZvEiQ-",
    "scrolled": true
   },
   "outputs": [
    {
     "name": "stderr",
     "output_type": "stream",
     "text": [
      "C:\\Users\\asmaa\\Anaconda3\\lib\\site-packages\\sklearn\\linear_model\\logistic.py:432: FutureWarning: Default solver will be changed to 'lbfgs' in 0.22. Specify a solver to silence this warning.\n",
      "  FutureWarning)\n",
      "C:\\Users\\asmaa\\Anaconda3\\lib\\site-packages\\sklearn\\linear_model\\logistic.py:469: FutureWarning: Default multi_class will be changed to 'auto' in 0.22. Specify the multi_class option to silence this warning.\n",
      "  \"this warning.\", FutureWarning)\n"
     ]
    }
   ],
   "source": [
    "############################\n",
    "# عليك تعديل هذه الخانة قبل تسليم المشروع\n",
    "# YOU HAVE TO EDIT THIS CELLL\n",
    "############################\n",
    "\n",
    "# HINT: You should use `train_data` as your input\n",
    "from sklearn.linear_model import LogisticRegression\n",
    "from sklearn.model_selection import cross_val_score\n",
    "model =LogisticRegression()\n",
    "scores = cross_val_score(model, trn_term_doc, y, cv=3, scoring='accuracy')\n"
   ]
  },
  {
   "cell_type": "code",
   "execution_count": 23,
   "metadata": {
    "colab": {},
    "colab_type": "code",
    "id": "mlKO_U3YEiRC"
   },
   "outputs": [],
   "source": [
    "avg_score = scores.mean()"
   ]
  },
  {
   "cell_type": "code",
   "execution_count": 24,
   "metadata": {
    "colab": {},
    "colab_type": "code",
    "id": "XeEslIT8EiRi",
    "outputId": "d23a74cf-232c-4e4f-aff5-f423781baccd"
   },
   "outputs": [
    {
     "name": "stdout",
     "output_type": "stream",
     "text": [
      "Average accuracy is:  0.800428599814722\n"
     ]
    }
   ],
   "source": [
    "print('Average accuracy is: ', avg_score)"
   ]
  },
  {
   "cell_type": "markdown",
   "metadata": {
    "colab_type": "text",
    "id": "eiypo5UVEiR8"
   },
   "source": [
    "<div style=\"direction:rtl; text-align:right\">\n",
    "لا تحتاج في هذا المشروع إلى تسليم أي ملف إلى كاقل. ولكن تأكد من صحة الإجابات ثم قم بتسليم المشروع في الموقع."
   ]
  }
 ],
 "metadata": {
  "colab": {
   "name": "Project 6.ipynb",
   "provenance": []
  },
  "kernelspec": {
   "display_name": "Python 3",
   "language": "python",
   "name": "python3"
  },
  "language_info": {
   "codemirror_mode": {
    "name": "ipython",
    "version": 3
   },
   "file_extension": ".py",
   "mimetype": "text/x-python",
   "name": "python",
   "nbconvert_exporter": "python",
   "pygments_lexer": "ipython3",
   "version": "3.7.3"
  }
 },
 "nbformat": 4,
 "nbformat_minor": 1
}
